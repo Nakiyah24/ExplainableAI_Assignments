{
 "cells": [
  {
   "cell_type": "markdown",
   "id": "fb29fe7e",
   "metadata": {},
   "source": [
    "# Assignemnt 3\n",
    "## Nakiyah Dhariwala\n",
    "\n",
    "My Role: \n",
    "💰 Case 1: Loan Approval  🟥 Prosecution"
   ]
  },
  {
   "cell_type": "markdown",
   "id": "053f7cc4",
   "metadata": {},
   "source": [
    "## ⚖️ Case 1: Loan Denial Dispute – UCI Adult Income Dataset\n",
    "#### 🔍 Scenario\n",
    "\n",
    "Jane Dow, a 37-year-old professional woman with a Bachelor's degree and full-time executive role, applied for a premium credit product. The bank’s model—trained to predict income level as a proxy for eligibility—classified her as earning ≤$50K, resulting in denial. She disputes the fairness of the decision.\n",
    "\n",
    "#### 🟥 Prosecution\n",
    "Evaluate whether the model’s decision may have been influenced by inappropriate or unfair reasoning. Explore whether the explanation aligns with what should be expected in a fair credit decision.\n",
    "\n",
    "#### 🟦 Defense\n",
    "Justify the decision based on the model’s learned patterns. Consider how well the explanation supports the classification and whether similar profiles are treated consistently."
   ]
  },
  {
   "cell_type": "code",
   "execution_count": 14,
   "id": "be681b93",
   "metadata": {},
   "outputs": [
    {
     "name": "stderr",
     "output_type": "stream",
     "text": [
      "/Library/Frameworks/Python.framework/Versions/3.12/lib/python3.12/site-packages/tqdm/auto.py:21: TqdmWarning: IProgress not found. Please update jupyter and ipywidgets. See https://ipywidgets.readthedocs.io/en/stable/user_install.html\n",
      "  from .autonotebook import tqdm as notebook_tqdm\n"
     ]
    }
   ],
   "source": [
    "# 📦 Case 1: Loan Approval Prediction (Adult Income Dataset)\n",
    "\n",
    "import pandas as pd\n",
    "import numpy as np\n",
    "import matplotlib.pyplot as plt\n",
    "from sklearn.model_selection import train_test_split\n",
    "from sklearn.preprocessing import LabelEncoder\n",
    "from sklearn.ensemble import RandomForestClassifier\n",
    "from sklearn.metrics import classification_report\n",
    "from lime.lime_tabular import LimeTabularExplainer\n",
    "from alibi.explainers import AnchorTabular\n",
    "\n",
    "# Load Data\n",
    "from sklearn.datasets import fetch_openml"
   ]
  },
  {
   "cell_type": "markdown",
   "id": "8c901aef",
   "metadata": {},
   "source": [
    "As a prosecutor, my role is to argue the case that the model's decision was influneced by unfair reasoning when it rejected Jane DOw's application on the basis of her income level. \n",
    "\n",
    "Throughout this report, I shall analyze the results and data to "
   ]
  },
  {
   "cell_type": "markdown",
   "id": "c4288bcc",
   "metadata": {},
   "source": [
    "## Given Code Template"
   ]
  },
  {
   "cell_type": "code",
   "execution_count": 15,
   "id": "232a61a3",
   "metadata": {},
   "outputs": [],
   "source": [
    "adult = fetch_openml(name=\"adult\", version=2, as_frame=True)\n",
    "df_raw = adult.frame"
   ]
  },
  {
   "cell_type": "markdown",
   "id": "693577a6",
   "metadata": {},
   "source": [
    "### Preprocessing and building Random Forest Model"
   ]
  },
  {
   "cell_type": "code",
   "execution_count": 16,
   "id": "dbcac5b3",
   "metadata": {},
   "outputs": [],
   "source": [
    "# Clean and preprocess\n",
    "df = df_raw.dropna()\n",
    "df = df.copy()\n",
    "encoders = {}\n",
    "label_cols = df.select_dtypes(include=\"category\").columns.tolist()\n",
    "\n",
    "for col in label_cols:\n",
    "    le = LabelEncoder()\n",
    "    df[col] = df[col].astype(str)\n",
    "    df[col] = le.fit_transform(df[col])\n",
    "    encoders[col] = le\n",
    "\n",
    "X = df.drop([\"class\", \"fnlwgt\"], axis=1)\n",
    "y = df[\"class\"].apply(lambda x: 1 if x == \">50K\" else 0)\n",
    "\n",
    "X_train, X_test, y_train, y_test = train_test_split(\n",
    "    X, y, test_size=0.2, random_state=42\n",
    ")"
   ]
  },
  {
   "cell_type": "code",
   "execution_count": 17,
   "id": "b567decf",
   "metadata": {},
   "outputs": [
    {
     "name": "stdout",
     "output_type": "stream",
     "text": [
      "              precision    recall  f1-score   support\n",
      "\n",
      "           0       1.00      1.00      1.00      9045\n",
      "\n",
      "    accuracy                           1.00      9045\n",
      "   macro avg       1.00      1.00      1.00      9045\n",
      "weighted avg       1.00      1.00      1.00      9045\n",
      "\n"
     ]
    }
   ],
   "source": [
    "# Train simple RF model\n",
    "model_adult = RandomForestClassifier(random_state=42)\n",
    "model_adult.fit(X_train, y_train)\n",
    "print(classification_report(y_test, model_adult.predict(X_test)))"
   ]
  },
  {
   "cell_type": "markdown",
   "id": "e23d5e36",
   "metadata": {},
   "source": [
    "### Focus Instance"
   ]
  },
  {
   "cell_type": "code",
   "execution_count": 18,
   "id": "ea1a3a0f",
   "metadata": {},
   "outputs": [
    {
     "name": "stdout",
     "output_type": "stream",
     "text": [
      "Prediction for Jane Dow (Loan Eligibility): Denied\n"
     ]
    }
   ],
   "source": [
    "# 🎯 Focus Instance: Loan Rejection Case (Jane Dow)\n",
    "\n",
    "jane_encoded = {\n",
    "    \"age\": 37,\n",
    "    \"workclass\": encoders[\"workclass\"].transform([\"Private\"])[0],\n",
    "    \"education\": encoders[\"education\"].transform([\"Bachelors\"])[0],\n",
    "    \"marital-status\": encoders[\"marital-status\"].transform([\"Never-married\"])[0],\n",
    "    \"occupation\": encoders[\"occupation\"].transform([\"Exec-managerial\"])[0],\n",
    "    \"relationship\": encoders[\"relationship\"].transform([\"Not-in-family\"])[0],\n",
    "    \"race\": encoders[\"race\"].transform([\"White\"])[0],\n",
    "    \"sex\": encoders[\"sex\"].transform([\"Female\"])[0],\n",
    "    \"hours-per-week\": 50,\n",
    "    \"native-country\": encoders[\"native-country\"].transform([\"United-States\"])[0],\n",
    "    \"capital-gain\": 0,\n",
    "    \"capital-loss\": 0,\n",
    "    \"education-num\": 13,\n",
    "}\n",
    "\n",
    "jane_df = pd.DataFrame([jane_encoded])\n",
    "jane_df = jane_df[X_train.columns]\n",
    "pred = model_adult.predict(jane_df)\n",
    "print(\n",
    "    \"Prediction for Jane Dow (Loan Eligibility):\",\n",
    "    \"Approved\" if pred[0] == 1 else \"Denied\",\n",
    ")"
   ]
  },
  {
   "cell_type": "markdown",
   "id": "fa199b04",
   "metadata": {},
   "source": [
    "From the Random Forest classification report, we can see that there are perfect scores across the board (precision, recall, F1 = 1.00) but only for class 0. \n",
    "\n",
    "That essentially means that the model is predicting everyone as ≤50K, with no examples of >50K. In a way, we could say that this model appears perfect, however that would be extremely misleading. Maybe this is why Jane was denied, not because of her qualifications (i.e. features) but the model itself. \n",
    "\n",
    "I want to investigate the initial model further but before jumping to conclusions, I will still use LIME and Anchor methods to test whether the model truly uses any meaningful features in jane's case or not."
   ]
  },
  {
   "cell_type": "markdown",
   "id": "ff62cfed",
   "metadata": {},
   "source": [
    "### LIME #1: Explain Jane's prediction"
   ]
  },
  {
   "cell_type": "code",
   "execution_count": 19,
   "id": "b855a5b9",
   "metadata": {},
   "outputs": [
    {
     "name": "stdout",
     "output_type": "stream",
     "text": [
      "LIME (buggy) — feature -> contribution\n",
      "28.00 < age <= 37.00: +0.000\n",
      "workclass=Private: +0.000\n",
      "education=Bachelors: +0.000\n",
      "10.00 < education-num <= 13.00: +0.000\n",
      "marital-status=Never-married: +0.000\n",
      "occupation=Exec-managerial: +0.000\n",
      "relationship=Not-in-family: +0.000\n",
      "race=White: +0.000\n",
      "sex=Female: +0.000\n",
      "capital-gain <= 0.00: +0.000\n"
     ]
    }
   ],
   "source": [
    "# LIME needs categorical indices & names\n",
    "all_cols = X_train.columns.tolist()\n",
    "cat_cols = [c for c in all_cols if c in encoders]\n",
    "categorical_features = [all_cols.index(c) for c in cat_cols]\n",
    "categorical_names = {all_cols.index(c): encoders[c].classes_.tolist() for c in cat_cols}\n",
    "\n",
    "\n",
    "# Wrapping predict_proba so LIME sees proper column names\n",
    "def predict_proba_df(x_array):\n",
    "    x_df = pd.DataFrame(x_array, columns=all_cols)\n",
    "    return model_adult.predict_proba(x_df)\n",
    "\n",
    "\n",
    "# Building the explainer\n",
    "explainer = LimeTabularExplainer(\n",
    "    training_data=X_train.values,\n",
    "    feature_names=all_cols,\n",
    "    class_names=[\"<=50K\", \">50K\"],\n",
    "    categorical_features=categorical_features,\n",
    "    categorical_names=categorical_names,\n",
    "    discretize_continuous=True,\n",
    "    mode=\"classification\",\n",
    "    random_state=42,\n",
    ")\n",
    "\n",
    "# 5) explaining Jane's case\n",
    "exp = explainer.explain_instance(\n",
    "    data_row=jane_df.iloc[0].values,\n",
    "    predict_fn=predict_proba_df,\n",
    "    num_features=10,\n",
    "    top_labels=1,\n",
    ")\n",
    "\n",
    "print(\"LIME (buggy) — feature -> contribution\")\n",
    "for feat, weight in exp.as_list(label=exp.top_labels[0]):\n",
    "    print(f\"{feat}: {weight:+.3f}\")"
   ]
  },
  {
   "cell_type": "code",
   "execution_count": 20,
   "id": "ff16ccaa",
   "metadata": {},
   "outputs": [
    {
     "data": {
      "image/png": "[encoded data removed]",
      "text/plain": [
       "<Figure size 640x480 with 1 Axes>"
      ]
     },
     "metadata": {},
     "output_type": "display_data"
    }
   ],
   "source": [
    "fig = exp.as_pyplot_figure(label=exp.top_labels[0])\n",
    "plt.title(\"LIME #1 — Jane\")\n",
    "plt.tight_layout()\n",
    "plt.show()"
   ]
  },
  {
   "cell_type": "markdown",
   "id": "37749b02",
   "metadata": {},
   "source": [
    "### Anchor #1: rule-style explanation"
   ]
  },
  {
   "cell_type": "code",
   "execution_count": 21,
   "id": "f19d2341",
   "metadata": {},
   "outputs": [
    {
     "name": "stdout",
     "output_type": "stream",
     "text": [
      "ANCHOR (buggy) — rule: []\n",
      "Precision: [1.]\n",
      "Coverage: 1\n"
     ]
    }
   ],
   "source": [
    "# predictor wrapper that returns class labels\n",
    "def predict_labels_df(x_array):\n",
    "    x_df = pd.DataFrame(x_array, columns=all_cols)\n",
    "    return model_adult.predict(x_df)\n",
    "\n",
    "\n",
    "# 3) creating & fitting the explainer\n",
    "anchor_exp = AnchorTabular(\n",
    "    predictor=predict_labels_df,\n",
    "    feature_names=all_cols,\n",
    "    categorical_names=categorical_names,\n",
    ")\n",
    "anchor_exp.fit(X_train.values, disc_perc=[25, 50, 75])\n",
    "\n",
    "# 4) explaining Jane\n",
    "anchor = anchor_exp.explain(jane_df.iloc[0].values, threshold=0.95)\n",
    "\n",
    "print(\"ANCHOR (buggy) — rule:\", anchor.anchor)\n",
    "print(\"Precision:\", anchor.precision)\n",
    "print(\"Coverage:\", anchor.coverage)"
   ]
  },
  {
   "cell_type": "markdown",
   "id": "37a61c6a",
   "metadata": {},
   "source": [
    "My analysis from LIME and Anchor:\n",
    "\n",
    "In the LIME output, we can see that every feature has a contribution of +0.000 which simply means that LIME can't identify any feature influencing Jane's denial. \n",
    "\n",
    "\n",
    "In addition, Anchor could also not find a condition (i.e. []) to explain Jane's outcome. Precision and COverage of 1 essentially indicate that anyone and everyone is 'always' denied. "
   ]
  },
  {
   "cell_type": "markdown",
   "id": "1bc6ea8d",
   "metadata": {},
   "source": [
    "Thus, both LIME and Anchor fail to produce meaningful explanations which is concerning because if two independent XAI models fail to produce meaningful reasoning, it wouldn't matter if Jane was educated, worked higher hours per week, etc. - the model will always deny her.\n",
    "\n",
    "As we saw from the classification report above, precision, recall and f1 all resulted in a 1 for class 0, it further reinforces my belief that the issue lies not with Jane’s profile but with the data, preprocessing, or the model itself. My next step would be to go back to EDA. "
   ]
  }
 ],
 "metadata": {
  "kernelspec": {
   "display_name": "Python 3",
   "language": "python",
   "name": "python3"
  },
  "language_info": {
   "codemirror_mode": {
    "name": "ipython",
    "version": 3
   },
   "file_extension": ".py",
   "mimetype": "text/x-python",
   "name": "python",
   "nbconvert_exporter": "python",
   "pygments_lexer": "ipython3",
   "version": "3.12.7"
  }
 },
 "nbformat": 4,
 "nbformat_minor": 5
}
