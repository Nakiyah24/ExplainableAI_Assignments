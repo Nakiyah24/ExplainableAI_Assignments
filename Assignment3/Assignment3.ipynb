{
 "cells": [
  {
   "cell_type": "markdown",
   "id": "fb29fe7e",
   "metadata": {},
   "source": [
    "# Assignemnt 3\n",
    "## Nakiyah Dhariwala\n",
    "\n",
    "My Role: \n",
    "💰 Case 1: Loan Approval  🟥 Prosecution"
   ]
  },
  {
   "cell_type": "markdown",
   "id": "053f7cc4",
   "metadata": {},
   "source": [
    "## ⚖️ Case 1: Loan Denial Dispute – UCI Adult Income Dataset\n",
    "#### 🔍 Scenario\n",
    "\n",
    "Jane Dow, a 37-year-old professional woman with a Bachelor's degree and full-time executive role, applied for a premium credit product. The bank’s model—trained to predict income level as a proxy for eligibility—classified her as earning ≤$50K, resulting in denial. She disputes the fairness of the decision.\n",
    "\n",
    "#### 🟥 Prosecution\n",
    "Evaluate whether the model’s decision may have been influenced by inappropriate or unfair reasoning. Explore whether the explanation aligns with what should be expected in a fair credit decision.\n",
    "\n",
    "#### 🟦 Defense\n",
    "Justify the decision based on the model’s learned patterns. Consider how well the explanation supports the classification and whether similar profiles are treated consistently."
   ]
  },
  {
   "cell_type": "code",
   "execution_count": 111,
   "id": "be681b93",
   "metadata": {},
   "outputs": [],
   "source": [
    "# 📦 Case 1: Loan Approval Prediction (Adult Income Dataset)\n",
    "\n",
    "import pandas as pd\n",
    "import numpy as np\n",
    "import matplotlib.pyplot as plt\n",
    "from sklearn.model_selection import train_test_split\n",
    "from sklearn.preprocessing import LabelEncoder\n",
    "from sklearn.ensemble import RandomForestClassifier\n",
    "from sklearn.metrics import classification_report\n",
    "from lime.lime_tabular import LimeTabularExplainer\n",
    "from alibi.explainers import AnchorTabular\n",
    "\n",
    "# Load Data\n",
    "from sklearn.datasets import fetch_openml"
   ]
  },
  {
   "cell_type": "markdown",
   "id": "8c901aef",
   "metadata": {},
   "source": [
    "As a prosecutor, my role is to understand look at the case  and check if the model's decision was influneced by unfair reasoning when it rejected Jane DOw's application on the basis of her income level. \n",
    "\n",
    "Throughout this report, I shall analyze the results employ two XAI techniques to ensure the model'r results lean toward fairness and unbiaseness when making credit decisions."
   ]
  },
  {
   "cell_type": "markdown",
   "id": "c4288bcc",
   "metadata": {},
   "source": [
    "## Given Code Template"
   ]
  },
  {
   "cell_type": "code",
   "execution_count": 112,
   "id": "232a61a3",
   "metadata": {},
   "outputs": [],
   "source": [
    "adult = fetch_openml(name=\"adult\", version=2, as_frame=True)\n",
    "df_raw = adult.frame"
   ]
  },
  {
   "cell_type": "markdown",
   "id": "693577a6",
   "metadata": {},
   "source": [
    "### Preprocessing and building Random Forest Model"
   ]
  },
  {
   "cell_type": "code",
   "execution_count": 113,
   "id": "dbcac5b3",
   "metadata": {},
   "outputs": [],
   "source": [
    "# Clean and preprocess\n",
    "df = df_raw.dropna()\n",
    "df = df.copy()\n",
    "encoders = {}\n",
    "label_cols = df.select_dtypes(include=\"category\").columns.tolist()\n",
    "\n",
    "for col in label_cols:\n",
    "    le = LabelEncoder()\n",
    "    df[col] = df[col].astype(str)\n",
    "    df[col] = le.fit_transform(df[col])\n",
    "    encoders[col] = le\n",
    "\n",
    "X = df.drop([\"class\", \"fnlwgt\"], axis=1)\n",
    "y = df[\"class\"].apply(lambda x: 1 if x == \">50K\" else 0)\n",
    "\n",
    "X_train, X_test, y_train, y_test = train_test_split(\n",
    "    X, y, test_size=0.2, random_state=42\n",
    ")"
   ]
  },
  {
   "cell_type": "code",
   "execution_count": 114,
   "id": "b567decf",
   "metadata": {},
   "outputs": [
    {
     "name": "stdout",
     "output_type": "stream",
     "text": [
      "              precision    recall  f1-score   support\n",
      "\n",
      "           0       1.00      1.00      1.00      9045\n",
      "\n",
      "    accuracy                           1.00      9045\n",
      "   macro avg       1.00      1.00      1.00      9045\n",
      "weighted avg       1.00      1.00      1.00      9045\n",
      "\n"
     ]
    }
   ],
   "source": [
    "# Train simple RF model\n",
    "model_adult = RandomForestClassifier(random_state=42)\n",
    "model_adult.fit(X_train, y_train)\n",
    "print(classification_report(y_test, model_adult.predict(X_test)))"
   ]
  },
  {
   "cell_type": "markdown",
   "id": "e23d5e36",
   "metadata": {},
   "source": [
    "### Focus Instance"
   ]
  },
  {
   "cell_type": "code",
   "execution_count": 115,
   "id": "ea1a3a0f",
   "metadata": {},
   "outputs": [
    {
     "name": "stdout",
     "output_type": "stream",
     "text": [
      "Prediction for Jane Dow (Loan Eligibility): Denied\n"
     ]
    }
   ],
   "source": [
    "# 🎯 Focus Instance: Loan Rejection Case (Jane Dow)\n",
    "\n",
    "jane_encoded = {\n",
    "    \"age\": 37,\n",
    "    \"workclass\": encoders[\"workclass\"].transform([\"Private\"])[0],\n",
    "    \"education\": encoders[\"education\"].transform([\"Bachelors\"])[0],\n",
    "    \"marital-status\": encoders[\"marital-status\"].transform([\"Never-married\"])[0],\n",
    "    \"occupation\": encoders[\"occupation\"].transform([\"Exec-managerial\"])[0],\n",
    "    \"relationship\": encoders[\"relationship\"].transform([\"Not-in-family\"])[0],\n",
    "    \"race\": encoders[\"race\"].transform([\"White\"])[0],\n",
    "    \"sex\": encoders[\"sex\"].transform([\"Female\"])[0],\n",
    "    \"hours-per-week\": 50,\n",
    "    \"native-country\": encoders[\"native-country\"].transform([\"United-States\"])[0],\n",
    "    \"capital-gain\": 0,\n",
    "    \"capital-loss\": 0,\n",
    "    \"education-num\": 13,\n",
    "}\n",
    "\n",
    "jane_df = pd.DataFrame([jane_encoded])\n",
    "jane_df = jane_df[X_train.columns]\n",
    "pred = model_adult.predict(jane_df)\n",
    "print(\n",
    "    \"Prediction for Jane Dow (Loan Eligibility):\",\n",
    "    \"Approved\" if pred[0] == 1 else \"Denied\",\n",
    ")"
   ]
  },
  {
   "cell_type": "markdown",
   "id": "fa199b04",
   "metadata": {},
   "source": [
    "From the Random Forest classification report, we can see that there are perfect scores across the board (precision, recall, F1 = 1.00) but only for class 0. \n",
    "\n",
    "That essentially means that the model is predicting everyone as earning less than or equal to 50K, with no examples of anyone earning greater than 50K. In a way, we could say that this model appears perfect, however that would be extremely misleading. Maybe this is why Jane was denied, not because of her qualifications (i.e. features) but the model itself. \n",
    "\n",
    "Nonethless, before jumping to conclusions, I will investigate the initial model further using the LIME and Anchor methods to test whether the model truly uses any meaningful features in jane's case or not."
   ]
  },
  {
   "cell_type": "markdown",
   "id": "6fd51ba3",
   "metadata": {},
   "source": [
    "### Explaining Jane"
   ]
  },
  {
   "cell_type": "markdown",
   "id": "ff62cfed",
   "metadata": {},
   "source": [
    "#### LIME Method on current model"
   ]
  },
  {
   "cell_type": "code",
   "execution_count": 116,
   "id": "b855a5b9",
   "metadata": {},
   "outputs": [
    {
     "name": "stdout",
     "output_type": "stream",
     "text": [
      "LIME (Current Mddel) — feature -> contribution\n",
      "28.00 < age <= 37.00: +0.000\n",
      "workclass=Private: +0.000\n",
      "education=Bachelors: +0.000\n",
      "10.00 < education-num <= 13.00: +0.000\n",
      "marital-status=Never-married: +0.000\n",
      "occupation=Exec-managerial: +0.000\n",
      "relationship=Not-in-family: +0.000\n",
      "race=White: +0.000\n",
      "sex=Female: +0.000\n",
      "capital-gain <= 0.00: +0.000\n"
     ]
    }
   ],
   "source": [
    "# LIME needs categorical indices & names\n",
    "all_cols = X_train.columns.tolist()\n",
    "cat_cols = [c for c in all_cols if c in encoders]\n",
    "categorical_features = [all_cols.index(c) for c in cat_cols]\n",
    "categorical_names = {all_cols.index(c): encoders[c].classes_.tolist() for c in cat_cols}\n",
    "\n",
    "\n",
    "# Wrapping predict_proba so LIME sees proper column names\n",
    "def predict_proba_df(x_array):\n",
    "    x_df = pd.DataFrame(x_array, columns=all_cols)\n",
    "    return model_adult.predict_proba(x_df)\n",
    "\n",
    "\n",
    "# Building the explainer\n",
    "explainer = LimeTabularExplainer(\n",
    "    training_data=X_train.values,\n",
    "    feature_names=all_cols,\n",
    "    class_names=[\"<=50K\", \">50K\"],\n",
    "    categorical_features=categorical_features,\n",
    "    categorical_names=categorical_names,\n",
    "    discretize_continuous=True,\n",
    "    mode=\"classification\",\n",
    "    random_state=42,\n",
    ")\n",
    "\n",
    "# 5) explaining Jane's case\n",
    "exp = explainer.explain_instance(\n",
    "    data_row=jane_df.iloc[0].values,\n",
    "    predict_fn=predict_proba_df,\n",
    "    num_features=10,\n",
    "    top_labels=1,\n",
    ")\n",
    "\n",
    "print(\"LIME (Current Mddel) — feature -> contribution\")\n",
    "for feat, weight in exp.as_list(label=exp.top_labels[0]):\n",
    "    print(f\"{feat}: {weight:+.3f}\")"
   ]
  },
  {
   "cell_type": "markdown",
   "id": "37749b02",
   "metadata": {},
   "source": [
    "#### Anchor method (rule-style explanation) on current model"
   ]
  },
  {
   "cell_type": "code",
   "execution_count": 117,
   "id": "f19d2341",
   "metadata": {},
   "outputs": [
    {
     "name": "stdout",
     "output_type": "stream",
     "text": [
      "ANCHOR (Current Model) — rule: []\n",
      "Precision: [1.]\n",
      "Coverage: 1\n"
     ]
    }
   ],
   "source": [
    "# predictor wrapper that returns class labels\n",
    "def predict_labels_df(x_array):\n",
    "    x_df = pd.DataFrame(x_array, columns=all_cols)\n",
    "    return model_adult.predict(x_df)\n",
    "\n",
    "\n",
    "# 3) creating & fitting the explainer\n",
    "anchor_exp = AnchorTabular(\n",
    "    predictor=predict_labels_df,\n",
    "    feature_names=all_cols,\n",
    "    categorical_names=categorical_names,\n",
    ")\n",
    "anchor_exp.fit(X_train.values, disc_perc=[25, 50, 75])\n",
    "\n",
    "# 4) explaining Jane\n",
    "anchor = anchor_exp.explain(jane_df.iloc[0].values, threshold=0.95)\n",
    "\n",
    "print(\"ANCHOR (Current Model) — rule:\", anchor.anchor)\n",
    "print(\"Precision:\", anchor.precision)\n",
    "print(\"Coverage:\", anchor.coverage)"
   ]
  },
  {
   "cell_type": "markdown",
   "id": "37a61c6a",
   "metadata": {},
   "source": [
    "My analysis from LIME and Anchor:\n",
    "\n",
    "In the LIME output, we can see that every feature has a contribution of +0.000 which simply means that LIME can't identify any feature influencing Jane's denial. \n",
    "\n",
    "\n",
    "In addition, Anchor could also not find a condition (i.e. []) to explain Jane's outcome. Precision and COverage of 1 essentially indicate that anyone and everyone is always 'Denied'. "
   ]
  },
  {
   "cell_type": "markdown",
   "id": "1bc6ea8d",
   "metadata": {},
   "source": [
    "Thus, both LIME and Anchor fail to produce meaningful explanations which is concerning because if two independent XAI models fail to produce meaningful reasoning, it wouldn't matter if Jane was educated, worked higher hours per week, etc. - the model will always deny her.\n",
    "\n",
    "As we saw from the classification report above, precision, recall and f1 all resulted in a 1 for class 0, which simply reinforces my belief that the issue lies not with Jane’s profile but with the data, preprocessing, or the model itself. My next step would be to go back to EDA. "
   ]
  },
  {
   "cell_type": "markdown",
   "id": "c47dad05",
   "metadata": {},
   "source": [
    "### Further Inspection"
   ]
  },
  {
   "cell_type": "code",
   "execution_count": 118,
   "id": "744907f6",
   "metadata": {},
   "outputs": [
    {
     "name": "stdout",
     "output_type": "stream",
     "text": [
      "Overall counts:\n",
      " class\n",
      "0    45222\n",
      "Name: count, dtype: int64\n",
      "\n",
      "Overall proportions:\n",
      " class\n",
      "0    1.0\n",
      "Name: proportion, dtype: float64\n",
      "\n",
      "Unique labels in y: [0]\n"
     ]
    }
   ],
   "source": [
    "# A) Overall target distribution for y\n",
    "print(\"Overall counts:\\n\", y.value_counts())\n",
    "print(\"\\nOverall proportions:\\n\", y.value_counts(normalize=True))\n",
    "print(\"\\nUnique labels in y:\", sorted(y.unique()))"
   ]
  },
  {
   "cell_type": "code",
   "execution_count": 119,
   "id": "d44e61fe",
   "metadata": {},
   "outputs": [
    {
     "name": "stdout",
     "output_type": "stream",
     "text": [
      "\n",
      "y_train counts:\n",
      " class\n",
      "0    36177\n",
      "Name: count, dtype: int64\n",
      "\n",
      "y_train proportions:\n",
      " class\n",
      "0    1.0\n",
      "Name: proportion, dtype: float64\n",
      "\n",
      "y_test counts:\n",
      " class\n",
      "0    9045\n",
      "Name: count, dtype: int64\n",
      "\n",
      "y_test proportions:\n",
      " class\n",
      "0    1.0\n",
      "Name: proportion, dtype: float64\n"
     ]
    }
   ],
   "source": [
    "# Looking at the existing Train/Test target distribution\n",
    "for name, arr in [(\"y_train\", y_train), (\"y_test\", y_test)]:\n",
    "    print(f\"\\n{name} counts:\\n\", arr.value_counts())\n",
    "    print(f\"\\n{name} proportions:\\n\", arr.value_counts(normalize=True))"
   ]
  },
  {
   "cell_type": "markdown",
   "id": "474445c9",
   "metadata": {},
   "source": [
    "Based on the counts and distribution, we can see that both - the y_train and y_test - contain only class 0. This means, the model was only trained on <= 50K. This further explains why LIME and Anchors could not produce any meaningful explanations — the model simply defaults to denial for everyone.\n",
    "\n",
    "By looking at the precproocessing code above, I saw that the target column of 'class' is being label-encoded first and then y is being built by comparing the label encoded integers to the string \">50K\". Now since that comparison is always False, all labels will become 0 and, thus, the model will only learn to predict <=50K.\n",
    "\n",
    "TO fix this, we need to remove 'class' from being encoded and build y correctly. After that we can check the model perfomance using the uncorrupted y variable."
   ]
  },
  {
   "cell_type": "markdown",
   "id": "bd23185f",
   "metadata": {},
   "source": [
    "## New preprocessing code"
   ]
  },
  {
   "cell_type": "markdown",
   "id": "be3be326",
   "metadata": {},
   "source": [
    "### Preprocessing and building Random Forest Model"
   ]
  },
  {
   "cell_type": "code",
   "execution_count": 120,
   "id": "37141e39",
   "metadata": {},
   "outputs": [],
   "source": [
    "# Clean and preprocess (FIXED)\n",
    "df = df_raw.dropna().copy()\n",
    "\n",
    "# Create target from the raw string labels (before any encoding)\n",
    "y = (df[\"class\"] == \">50K\").astype(int)\n",
    "\n",
    "# Label-encode ONLY the feature columns\n",
    "# excluding the target\n",
    "encoders = {}\n",
    "label_cols = df.select_dtypes(include=\"category\").columns.tolist()\n",
    "label_cols = [c for c in label_cols if c != \"class\"]\n",
    "\n",
    "for col in label_cols:\n",
    "    le = LabelEncoder()\n",
    "    df[col] = df[col].astype(str)\n",
    "    df[col] = le.fit_transform(df[col])\n",
    "    encoders[col] = le\n",
    "\n",
    "# Build features from the same cleaned df\n",
    "X = df.drop([\"class\", \"fnlwgt\"], axis=1)\n",
    "\n",
    "# Train/test split\n",
    "X_train, X_test, y_train, y_test = train_test_split(\n",
    "    X, y, test_size=0.2, random_state=42\n",
    ")"
   ]
  },
  {
   "cell_type": "code",
   "execution_count": 121,
   "id": "801c97f0",
   "metadata": {},
   "outputs": [
    {
     "name": "stdout",
     "output_type": "stream",
     "text": [
      "\n",
      "Classification report:\n",
      "              precision    recall  f1-score   support\n",
      "\n",
      "           0       0.88      0.92      0.90      6842\n",
      "           1       0.72      0.61      0.66      2203\n",
      "\n",
      "    accuracy                           0.85      9045\n",
      "   macro avg       0.80      0.77      0.78      9045\n",
      "weighted avg       0.84      0.85      0.84      9045\n",
      "\n"
     ]
    }
   ],
   "source": [
    "# Train and Check model\n",
    "model_adult = RandomForestClassifier(random_state=42)\n",
    "model_adult.fit(X_train, y_train)\n",
    "\n",
    "print(\"\\nClassification report:\")\n",
    "print(classification_report(y_test, model_adult.predict(X_test)))"
   ]
  },
  {
   "cell_type": "code",
   "execution_count": 122,
   "id": "7c8d1d49",
   "metadata": {},
   "outputs": [
    {
     "name": "stdout",
     "output_type": "stream",
     "text": [
      "Train distribution:\n",
      " class\n",
      "0    0.751085\n",
      "1    0.248915\n",
      "Name: proportion, dtype: float64\n",
      "\n",
      "Test distribution:\n",
      " class\n",
      "0    0.75644\n",
      "1    0.24356\n",
      "Name: proportion, dtype: float64\n"
     ]
    }
   ],
   "source": [
    "# Check ditribution now\n",
    "\n",
    "print(\"Train distribution:\\n\", y_train.value_counts(normalize=True))\n",
    "print(\"\\nTest distribution:\\n\", y_test.value_counts(normalize=True))"
   ]
  },
  {
   "cell_type": "markdown",
   "id": "069994ed",
   "metadata": {},
   "source": [
    "### Focus Instance"
   ]
  },
  {
   "cell_type": "code",
   "execution_count": 123,
   "id": "1319e2ad",
   "metadata": {},
   "outputs": [
    {
     "name": "stdout",
     "output_type": "stream",
     "text": [
      "Prediction for Jane Dow (Loan Eligibility): Denied\n"
     ]
    }
   ],
   "source": [
    "# 🎯 Focus Instance: Loan Rejection Case (Jane Dow)\n",
    "\n",
    "jane_encoded = {\n",
    "    \"age\": 37,\n",
    "    \"workclass\": encoders[\"workclass\"].transform([\"Private\"])[0],\n",
    "    \"education\": encoders[\"education\"].transform([\"Bachelors\"])[0],\n",
    "    \"marital-status\": encoders[\"marital-status\"].transform([\"Never-married\"])[0],\n",
    "    \"occupation\": encoders[\"occupation\"].transform([\"Exec-managerial\"])[0],\n",
    "    \"relationship\": encoders[\"relationship\"].transform([\"Not-in-family\"])[0],\n",
    "    \"race\": encoders[\"race\"].transform([\"White\"])[0],\n",
    "    \"sex\": encoders[\"sex\"].transform([\"Female\"])[0],\n",
    "    \"hours-per-week\": 50,\n",
    "    \"native-country\": encoders[\"native-country\"].transform([\"United-States\"])[0],\n",
    "    \"capital-gain\": 0,\n",
    "    \"capital-loss\": 0,\n",
    "    \"education-num\": 13,\n",
    "}\n",
    "\n",
    "jane_df = pd.DataFrame([jane_encoded])\n",
    "jane_df = jane_df[X_train.columns]\n",
    "pred = model_adult.predict(jane_df)\n",
    "print(\n",
    "    \"Prediction for Jane Dow (Loan Eligibility):\",\n",
    "    \"Approved\" if pred[0] == 1 else \"Denied\",\n",
    ")"
   ]
  },
  {
   "cell_type": "markdown",
   "id": "d54daec0",
   "metadata": {},
   "source": [
    "This time, as we can see from above, the model is no longer \"perfect\" - the performance is more realistic.\n",
    "Nonetheless, the model is biased toward denial because of class imbalance. It performs significantly worse on those earning >50K cases, meaning qualified applicants like Jane are more likely to be wrongfully denied.\n",
    "\n",
    "Now I can look at the LIME and Anchors method again to figure out which features are pushing Jane toward denial and what rule-like conditions summarize the decision."
   ]
  },
  {
   "cell_type": "markdown",
   "id": "ae61ad1b",
   "metadata": {},
   "source": [
    "### Explaining Jane on new code"
   ]
  },
  {
   "cell_type": "markdown",
   "id": "665dfe7a",
   "metadata": {},
   "source": [
    "#### LIME Method on new model"
   ]
  },
  {
   "cell_type": "code",
   "execution_count": 124,
   "id": "9abcc15e",
   "metadata": {},
   "outputs": [
    {
     "name": "stdout",
     "output_type": "stream",
     "text": [
      "Jane probabilities (<=50K, >50K): [0.675 0.325]\n"
     ]
    }
   ],
   "source": [
    "# feature names and categorical info\n",
    "all_cols = X_train.columns.tolist()\n",
    "cat_cols = [c for c in all_cols if c in encoders]\n",
    "categorical_features = [all_cols.index(c) for c in cat_cols]\n",
    "categorical_names = {all_cols.index(c): encoders[c].classes_.tolist() for c in cat_cols}\n",
    "\n",
    "\n",
    "# wrap predict_proba so LIME gets the right column names back\n",
    "def predict_proba_df(x_array):\n",
    "    x_df = pd.DataFrame(x_array, columns=all_cols)\n",
    "    return model_adult.predict_proba(x_df)\n",
    "\n",
    "\n",
    "# build explainer\n",
    "explainer_fixed = LimeTabularExplainer(\n",
    "    training_data=X_train.values,\n",
    "    feature_names=all_cols,\n",
    "    class_names=[\"<=50K\", \">50K\"],\n",
    "    categorical_features=categorical_features,\n",
    "    categorical_names=categorical_names,\n",
    "    discretize_continuous=True,\n",
    "    mode=\"classification\",\n",
    "    random_state=42,\n",
    ")\n",
    "\n",
    "# explain Jane\n",
    "proba = model_adult.predict_proba(jane_df)[0]  # Function taken from above\n",
    "print(\"Jane probabilities (<=50K, >50K):\", proba)"
   ]
  },
  {
   "cell_type": "code",
   "execution_count": 125,
   "id": "d0bfcd27",
   "metadata": {},
   "outputs": [
    {
     "name": "stdout",
     "output_type": "stream",
     "text": [
      "\n",
      "LIME (fixed) — feature -> contribution\n",
      "capital-gain <= 0.00: +0.597\n",
      "capital-loss <= 0.00: +0.100\n",
      "hours-per-week > 45.00: -0.088\n",
      "marital-status=Never-married: +0.077\n",
      "10.00 < education-num <= 13.00: -0.061\n",
      "occupation=Exec-managerial: -0.056\n",
      "relationship=Not-in-family: +0.046\n",
      "sex=Female: +0.015\n",
      "education=Bachelors: -0.007\n",
      "race=White: +0.004\n"
     ]
    }
   ],
   "source": [
    "exp_fixed = explainer_fixed.explain_instance(\n",
    "    data_row=jane_df.iloc[0].values,\n",
    "    predict_fn=predict_proba_df,\n",
    "    num_features=10,\n",
    "    top_labels=1,\n",
    ")\n",
    "\n",
    "print(\"\\nLIME (fixed) — feature -> contribution\")\n",
    "for feat, weight in exp_fixed.as_list(label=exp_fixed.top_labels[0]):\n",
    "    print(f\"{feat}: {weight:+.3f}\")"
   ]
  },
  {
   "cell_type": "code",
   "execution_count": 126,
   "id": "bd76d5be",
   "metadata": {},
   "outputs": [
    {
     "data": {
      "image/png": "[encoded data removed]",
      "text/plain": [
       "<Figure size 640x480 with 1 Axes>"
      ]
     },
     "metadata": {},
     "output_type": "display_data"
    }
   ],
   "source": [
    "fig = exp_fixed.as_pyplot_figure(label=exp_fixed.top_labels[0])\n",
    "plt.title(\"LIME — Jane (fixed model)\")\n",
    "plt.tight_layout()\n",
    "plt.show()"
   ]
  },
  {
   "cell_type": "markdown",
   "id": "1dfda5e9",
   "metadata": {},
   "source": [
    "#### Anchor method (rule-style explanation) on new model"
   ]
  },
  {
   "cell_type": "code",
   "execution_count": 127,
   "id": "80bd670d",
   "metadata": {},
   "outputs": [
    {
     "name": "stdout",
     "output_type": "stream",
     "text": [
      "ANCHOR (fixed) — rule: ['relationship = Not-in-family', 'marital-status = Never-married']\n",
      "Precision: 0.9571984435797666\n",
      "Coverage: 0.1394\n"
     ]
    }
   ],
   "source": [
    "# create and fit explainer\n",
    "anchor_exp_fixed = AnchorTabular(\n",
    "    predictor=predict_labels_df,\n",
    "    feature_names=all_cols,\n",
    "    categorical_names=categorical_names,\n",
    ")\n",
    "anchor_exp_fixed.fit(X_train.values, disc_perc=[25, 50, 75])\n",
    "\n",
    "# explain Jane\n",
    "anchor_fixed = anchor_exp_fixed.explain(jane_df.iloc[0].values, threshold=0.95)\n",
    "\n",
    "print(\"ANCHOR (fixed) — rule:\", anchor_fixed.anchor)\n",
    "print(\"Precision:\", anchor_fixed.precision)\n",
    "print(\"Coverage:\", anchor_fixed.coverage)"
   ]
  },
  {
   "cell_type": "markdown",
   "id": "74305d18",
   "metadata": {},
   "source": [
    "Analysis of the Mathods basd on the new model:\n",
    "\n",
    "\n",
    "For Jane’s case, the model predicted a 67.5% probability of her earning less than (or equal to) 50K and only a 32.5% chance of greater than 50K - resulting in her loan denial.\n",
    "\n",
    "The LIME model shows that the strongest factor pushing her toward denial was reporting no capital gains, followed by smaller effects from no capital losses, her never-married status, and not-in-family relationship status. Even demographic features like sex and race contributed slightly toward denial. Meanwhile, her positive factors such as her long work hours, bachelor’s degree, and executive occupation pushed her toward approval, but not enough to outweigh the negatives. This strongly shows that the model is placing disproportionate weight on weaker or irrelevant signals rather than key indicators of earning power.\n",
    "\n",
    "Anchor further reinforces this problem. The rule revelas that if an applicant’s relationship is “not-in-family” and their marital status is “never-married,” the model almost always predicts they earn less than (or equal to) 50K, with a precision of about 95.3%. This reduces Jane’s profile to demographic attributes and ignores her real qualifications ike her education and occupation.\n",
    "\n",
    "\n",
    "The overall problem that LIME and Anchor both highlight is that Jane’s denial is being driven by demographic and social status factors, while her positive (that are more financial oriented) attributes — such as her executive occupation, education, and long work hours — are overlooked. This highlights how the model makes unfair biases, reducing her profile to a couple of categorical conditions rather than evaluating her full qualifications.\n",
    "\n",
    "\n",
    "However, the problem does not end there. Even if we were to assume that the model made a decision fairly and accurately - taking into account important variables like education and occupation over the non-financial status - the model is incorrect to begin with. This is because of the error that was present in the preprocessing stage where it classified the target 'class' variable as a categorical variable and encoded that column. This collapsed the target values and caused the model to see the outcome labels incorrectly.\n",
    "\n",
    "\n",
    "Simply put, the model was not just biased in its reasoning - it was trained on a corrupted target variable from the beginning. Thus, any decision it made, including Jane's denial (the first time) were built on the wrong ground truth. This makes the model not only unfair but also unreliable at a fundamental level, and had we not made more post-modeling checks or done more analysis, we would have trusted a model that never actually learned the true distinction between applicants earning greater than 50K and those earning less than (or equal to) 50K."
   ]
  },
  {
   "cell_type": "markdown",
   "id": "c30b9d92",
   "metadata": {},
   "source": [
    "To conclude, I propose that this model is doubly unfit for deployment. \n",
    "\n",
    "First, explainability methods like LIME and Anchors reveal that the model's results rest on biases.\n",
    "- LIME shows the decision rests primarily on no capital gains/losses and family status; \n",
    "- Anchors proves that Never-married + Not-in-family alone drives denial with approximately 95% precision. \n",
    "\n",
    "Neither rationale reflects ability-to-repay. The inclusion and influence of sex/race/familial relationships further violates fair-lending norms. This decision, and the model behind it, fail the standard of a fair credit decision.\n",
    "\n",
    "\n",
    "Secondly, and perhaps most importantly, the model itself is built and trained on the wrong foundation - an error in the preprocessing stage that corrupted the target variable.\n",
    "\n",
    "In combination, these flaws make the model both biased in its reasoning and invalid in its training (the first model, not the corrected one). Any loan decisions it produces, including Jane’s denial, cannot be considered fair, transparent, or trustworthy."
   ]
  },
  {
   "cell_type": "markdown",
   "id": "05ecfd42",
   "metadata": {},
   "source": [
    "End Comments: I used ChatGPT-5 to help with the coding (specifically for LIME and Achors) and making the plots for LIME."
   ]
  }
 ],
 "metadata": {
  "kernelspec": {
   "display_name": "Python 3",
   "language": "python",
   "name": "python3"
  },
  "language_info": {
   "codemirror_mode": {
    "name": "ipython",
    "version": 3
   },
   "file_extension": ".py",
   "mimetype": "text/x-python",
   "name": "python",
   "nbconvert_exporter": "python",
   "pygments_lexer": "ipython3",
   "version": "3.12.7"
  }
 },
 "nbformat": 4,
 "nbformat_minor": 5
}
