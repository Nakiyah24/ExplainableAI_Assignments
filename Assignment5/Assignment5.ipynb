{
 "cells": [
  {
   "cell_type": "code",
   "execution_count": 1,
   "id": "e3b4f75d",
   "metadata": {},
   "outputs": [],
   "source": [
    "import pandas as pd\n",
    "import os"
   ]
  },
  {
   "cell_type": "code",
   "execution_count": null,
   "id": "1bf8dbd4",
   "metadata": {},
   "outputs": [
    {
     "name": "stdout",
     "output_type": "stream",
     "text": [
      "Healthy samples: 170\n",
      "Diseased samples: 265\n"
     ]
    }
   ],
   "source": [
    "main_pth = \"leaf_classification/Mango (P0)/\"\n",
    "healthy_pth = \"%s/healthy/\" % main_pth\n",
    "diseased_pth = \"%s/diseased/\" % main_pth\n",
    "\n",
    "print(\"Healthy samples:\", len(os.listdir(healthy_pth)))\n",
    "print(\"Diseased samples:\", len(os.listdir(diseased_pth)))"
   ]
  },
  {
   "cell_type": "code",
   "execution_count": null,
   "id": "0209a901",
   "metadata": {},
   "outputs": [],
   "source": [
    "mango_pth = \"mango_leaf_dataset/\"\n",
    "mango_dir = os.listdir(mango_pth)\n",
    "print(len(mango_dir))"
   ]
  },
  {
   "cell_type": "code",
   "execution_count": null,
   "id": "dd5d1c37",
   "metadata": {},
   "outputs": [],
   "source": []
  }
 ],
 "metadata": {
  "kernelspec": {
   "display_name": "Python 3",
   "language": "python",
   "name": "python3"
  },
  "language_info": {
   "codemirror_mode": {
    "name": "ipython",
    "version": 3
   },
   "file_extension": ".py",
   "mimetype": "text/x-python",
   "name": "python",
   "nbconvert_exporter": "python",
   "pygments_lexer": "ipython3",
   "version": "3.12.7"
  }
 },
 "nbformat": 4,
 "nbformat_minor": 5
}
