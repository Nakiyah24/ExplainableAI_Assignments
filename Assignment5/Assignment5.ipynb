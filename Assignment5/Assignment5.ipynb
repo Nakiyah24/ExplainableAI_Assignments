{
 "cells": [
  {
   "cell_type": "code",
   "execution_count": 1,
   "id": "e3b4f75d",
   "metadata": {},
   "outputs": [],
   "source": [
    "import pandas as pd\n",
    "import os"
   ]
  },
  {
   "cell_type": "code",
   "execution_count": null,
   "id": "1bf8dbd4",
   "metadata": {},
   "outputs": [
    {
     "name": "stdout",
     "output_type": "stream",
     "text": [
      "Healthy samples: 170\n",
      "Diseased samples: 265\n"
     ]
    }
   ],
   "source": [
    "main_pth = \"leaf_classification/Mango (P0)/\"\n",
    "healthy_pth = \"%s/healthy/\" % main_pth\n",
    "diseased_pth = \"%s/diseased/\" % main_pth\n",
    "\n",
    "print(\"Healthy samples:\", len(os.listdir(healthy_pth)))\n",
    "print(\"Diseased samples:\", len(os.listdir(diseased_pth)))"
   ]
  },
  {
   "cell_type": "code",
   "execution_count": 7,
   "id": "0209a901",
   "metadata": {},
   "outputs": [
    {
     "name": "stdout",
     "output_type": "stream",
     "text": [
      "20\n",
      "['healthy_0006.JPG', 'disease_0010.JPG', 'disease_0004.JPG', 'disease_0005.JPG', 'healthy_0007.JPG', 'healthy_0005.JPG', 'disease_0007.JPG', 'disease_0006.JPG', 'healthy_0010.JPG', 'healthy_0004.JPG', 'disease_0002.JPG', 'disease_0003.JPG', 'healthy_0001.JPG', 'healthy_0003.JPG', 'disease_0001.JPG', 'healthy_0002.JPG', 'healthy_0009.JPG', 'healthy_0008.JPG', 'disease_0008.JPG', 'disease_0009.JPG']\n"
     ]
    }
   ],
   "source": [
    "mango_pth = \"mango_leaf_dataset/\"\n",
    "mango_dir = os.listdir(mango_pth)\n",
    "print(len(mango_dir))\n",
    "print(mango_dir)"
   ]
  },
  {
   "cell_type": "code",
   "execution_count": null,
   "id": "dd5d1c37",
   "metadata": {},
   "outputs": [],
   "source": []
  }
 ],
 "metadata": {
  "kernelspec": {
   "display_name": "Python 3",
   "language": "python",
   "name": "python3"
  },
  "language_info": {
   "codemirror_mode": {
    "name": "ipython",
    "version": 3
   },
   "file_extension": ".py",
   "mimetype": "text/x-python",
   "name": "python",
   "nbconvert_exporter": "python",
   "pygments_lexer": "ipython3",
   "version": "3.12.7"
  }
 },
 "nbformat": 4,
 "nbformat_minor": 5
}
